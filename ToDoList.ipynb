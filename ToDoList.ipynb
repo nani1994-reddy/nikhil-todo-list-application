{
 "cells": [
  {
   "cell_type": "code",
   "execution_count": null,
   "metadata": {
    "colab": {
     "base_uri": "https://localhost:8080/"
    },
    "id": "AIutVAYZZ_pU",
    "outputId": "4c86f7c2-5b6c-4e29-c09a-72c6ead9401f"
   },
   "outputs": [
    {
     "name": "stdout",
     "output_type": "stream",
     "text": [
      "\n",
      "1. Add Task\n",
      "2. View Tasks\n",
      "3. Edit Task\n",
      "4. Delete Task\n",
      "5. Exit\n"
     ]
    },
    {
     "name": "stdin",
     "output_type": "stream",
     "text": [
      "Choose an option:  1\n",
      "Enter the task name:  nikhil shop\n",
      "Enter the item category:  grocery\n",
      "Enter the item name:  chips\n",
      "Enter the item required:  20 chips\n",
      "Enter the order due date:  20-sep-2024\n",
      "Enter the status:  pending\n"
     ]
    },
    {
     "name": "stdout",
     "output_type": "stream",
     "text": [
      "\n",
      "1. Add Task\n",
      "2. View Tasks\n",
      "3. Edit Task\n",
      "4. Delete Task\n",
      "5. Exit\n"
     ]
    },
    {
     "name": "stdin",
     "output_type": "stream",
     "text": [
      "Choose an option:  2\n"
     ]
    },
    {
     "name": "stdout",
     "output_type": "stream",
     "text": [
      "1. nikhil shop, grocery, chips, 20 chips, 20-sep-2024, pending\n",
      "\n",
      "1. Add Task\n",
      "2. View Tasks\n",
      "3. Edit Task\n",
      "4. Delete Task\n",
      "5. Exit\n"
     ]
    },
    {
     "name": "stdin",
     "output_type": "stream",
     "text": [
      "Choose an option:  3\n"
     ]
    },
    {
     "name": "stdout",
     "output_type": "stream",
     "text": [
      "1. nikhil shop, grocery, chips, 20 chips, 20-sep-2024, pending\n"
     ]
    },
    {
     "name": "stdin",
     "output_type": "stream",
     "text": [
      "Enter the task number to edit:  1\n",
      "Enter the new name for 'nikhil shop':  rahul shop\n",
      "Enter the new item category for 'grocery':  grocery\n",
      "Enter the new item name for 'chips':  nuts\n",
      "Enter the new item required for '20 chips':  10 packets\n",
      "Enter the new order due date for '20-sep-2024':  25-sep-2024\n",
      "Enter the new status for 'pending':  pending\n"
     ]
    },
    {
     "name": "stdout",
     "output_type": "stream",
     "text": [
      "\n",
      "1. Add Task\n",
      "2. View Tasks\n",
      "3. Edit Task\n",
      "4. Delete Task\n",
      "5. Exit\n"
     ]
    },
    {
     "name": "stdin",
     "output_type": "stream",
     "text": [
      "Choose an option:  2\n"
     ]
    },
    {
     "name": "stdout",
     "output_type": "stream",
     "text": [
      "1. rahul shop, grocery, nuts, 10 packets, 25-sep-2024, pending\n",
      "\n",
      "1. Add Task\n",
      "2. View Tasks\n",
      "3. Edit Task\n",
      "4. Delete Task\n",
      "5. Exit\n"
     ]
    }
   ],
   "source": [
    "## import json\n",
    "import os\n",
    "\n",
    "# Define the file path where tasks will be saved\n",
    "TASKS_FILE = r'C:\\Users\\sathi\\ToDo_Nikhil\\tasks.json'\n",
    "\n",
    "# Load tasks from file\n",
    "def load_tasks():\n",
    "    if os.path.exists(TASKS_FILE):\n",
    "        with open(TASKS_FILE, 'r') as file:\n",
    "            return json.load(file)\n",
    "    return []\n",
    "\n",
    "# Save tasks to file\n",
    "def save_tasks(tasks):\n",
    "    with open(TASKS_FILE, 'w') as file:\n",
    "        json.dump(tasks, file, indent=4)\n",
    "\n",
    "# In-memory task list\n",
    "tasks = load_tasks()\n",
    "\n",
    "def add_task():\n",
    "    task_name = input(\"Enter the task name: \")\n",
    "    task_itemcategory = input(\"Enter the item category: \")\n",
    "    task_itemname = input(\"Enter the item name: \")\n",
    "    task_itemrequired = input(\"Enter the item required: \")\n",
    "    task_orderduedate = input(\"Enter the order due date: \")\n",
    "    task_status = input(\"Enter the status: \")\n",
    "    tasks.append({\n",
    "        \"task_name\": task_name,\n",
    "        \"task_itemcategory\": task_itemcategory,\n",
    "        \"task_itemname\": task_itemname,\n",
    "        \"task_itemrequired\": task_itemrequired,\n",
    "        \"task_orderduedate\": task_orderduedate,\n",
    "        \"task_status\": task_status\n",
    "    })\n",
    "    save_tasks(tasks)\n",
    "\n",
    "def view_tasks():\n",
    "    if not tasks:\n",
    "        print(\"No tasks found.\")\n",
    "    else:\n",
    "        for idx, task in enumerate(tasks):\n",
    "            task_name = task.get('task_name', 'N/A')\n",
    "            task_itemcategory = task.get('task_itemcategory', 'N/A')\n",
    "            task_itemname = task.get('task_itemname', 'N/A')\n",
    "            task_itemrequired = task.get('task_itemrequired', 'N/A')\n",
    "            task_orderduedate = task.get('task_orderduedate', 'N/A')\n",
    "            task_status = task.get('task_status', 'N/A')\n",
    "\n",
    "            print(f\"{idx + 1}. {task_name}, {task_itemcategory}, {task_itemname}, {task_itemrequired}, {task_orderduedate}, {task_status}\")\n",
    "\n",
    "def edit_task():\n",
    "    view_tasks()\n",
    "    try:\n",
    "        index = int(input(\"Enter the task number to edit: \")) - 1\n",
    "        if 0 <= index < len(tasks):\n",
    "            task = tasks[index]\n",
    "            task['task_name'] = input(f\"Enter the new name for '{task['task_name']}': \")\n",
    "            task['task_itemcategory'] = input(f\"Enter the new item category for '{task['task_itemcategory']}': \")\n",
    "            task['task_itemname'] = input(f\"Enter the new item name for '{task['task_itemname']}': \")\n",
    "            task['task_itemrequired'] = input(f\"Enter the new item required for '{task['task_itemrequired']}': \")\n",
    "            task['task_orderduedate'] = input(f\"Enter the new order due date for '{task['task_orderduedate']}': \")\n",
    "            task['task_status'] = input(f\"Enter the new status for '{task['task_status']}': \")\n",
    "            save_tasks(tasks)\n",
    "        else:\n",
    "            print(\"Invalid task number.\")\n",
    "    except ValueError:\n",
    "        print(\"Invalid input. Please enter a number.\")\n",
    "\n",
    "def delete_task():\n",
    "    view_tasks()\n",
    "    try:\n",
    "        index = int(input(\"Enter the task number to delete: \")) - 1\n",
    "        if 0 <= index < len(tasks):\n",
    "            del tasks[index]\n",
    "            save_tasks(tasks)\n",
    "        else:\n",
    "            print(\"Invalid task number.\")\n",
    "    except ValueError:\n",
    "        print(\"Invalid input. Please enter a number.\")\n",
    "\n",
    "# Main Program\n",
    "while True:\n",
    "    print(\"\\n1. Add Task\\n2. View Tasks\\n3. Edit Task\\n4. Delete Task\\n5. Exit\")\n",
    "    choice = input(\"Choose an option: \")\n",
    "\n",
    "    if choice == '1':\n",
    "        add_task()\n",
    "    elif choice == '2':\n",
    "        view_tasks()\n",
    "    elif choice == '3':\n",
    "        edit_task()\n",
    "    elif choice == '4':\n",
    "        delete_task()\n",
    "    elif choice == '5':\n",
    "        break\n",
    "    else:\n",
    "        print(\"Invalid option! Please try again.\")"
   ]
  },
  {
   "cell_type": "code",
   "execution_count": null,
   "metadata": {},
   "outputs": [],
   "source": []
  },
  {
   "cell_type": "code",
   "execution_count": null,
   "metadata": {},
   "outputs": [],
   "source": []
  },
  {
   "cell_type": "code",
   "execution_count": null,
   "metadata": {},
   "outputs": [],
   "source": []
  },
  {
   "cell_type": "code",
   "execution_count": null,
   "metadata": {},
   "outputs": [],
   "source": []
  },
  {
   "cell_type": "code",
   "execution_count": null,
   "metadata": {},
   "outputs": [],
   "source": []
  }
 ],
 "metadata": {
  "colab": {
   "authorship_tag": "ABX9TyNwnD4qiGSz+eriZbLsRt/M",
   "provenance": []
  },
  "kernelspec": {
   "display_name": "Python 3 (ipykernel)",
   "language": "python",
   "name": "python3"
  },
  "language_info": {
   "codemirror_mode": {
    "name": "ipython",
    "version": 3
   },
   "file_extension": ".py",
   "mimetype": "text/x-python",
   "name": "python",
   "nbconvert_exporter": "python",
   "pygments_lexer": "ipython3",
   "version": "3.12.4"
  }
 },
 "nbformat": 4,
 "nbformat_minor": 4
}
